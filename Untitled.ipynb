{
 "cells": [
  {
   "cell_type": "code",
   "execution_count": 13,
   "id": "43c1df7d-1ac5-4194-bbaa-12969fbd7df5",
   "metadata": {},
   "outputs": [
    {
     "name": "stdout",
     "output_type": "stream",
     "text": [
      "139\n",
      "45\n",
      "[4, 30, 2, 10]\n",
      "[5, 4, 17, 19, 30]\n"
     ]
    }
   ],
   "source": [
    "my_list = [5, 4, 17, 19, 30, 2, 7, 10, 45]\n",
    "total = sum(my_list)\n",
    "print(total)\n",
    "\n",
    "largest_number = max(my_list)\n",
    "print(largest_number)\n",
    "\n",
    "even_numbers = [i for i in my_list if i % 2 == 0]\n",
    "print(even_numbers)\n",
    "\n",
    "sliced_list = my_list[0:5]\n",
    "print(sliced_list)\n",
    "\n",
    "\n",
    "\n"
   ]
  },
  {
   "cell_type": "code",
   "execution_count": null,
   "id": "c786bda6-23d3-4130-af10-8ecd7d8a977a",
   "metadata": {},
   "outputs": [],
   "source": []
  }
 ],
 "metadata": {
  "kernelspec": {
   "display_name": "Python 3 (ipykernel)",
   "language": "python",
   "name": "python3"
  },
  "language_info": {
   "codemirror_mode": {
    "name": "ipython",
    "version": 3
   },
   "file_extension": ".py",
   "mimetype": "text/x-python",
   "name": "python",
   "nbconvert_exporter": "python",
   "pygments_lexer": "ipython3",
   "version": "3.11.4"
  }
 },
 "nbformat": 4,
 "nbformat_minor": 5
}
