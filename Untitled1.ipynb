{
 "cells": [
  {
   "cell_type": "code",
   "execution_count": null,
   "id": "0baf1d8e-8129-4098-bb20-1245901ccc6c",
   "metadata": {},
   "outputs": [],
   "source": [
    "phone_book = {\n",
    "    '1111111111': 'Amal',\n",
    "    '2222222222': 'Mohammed',\n",
    "    '3333333333': 'Khadijah',\n",
    "    '4444444444': 'Abdullah',\n",
    "    '5555555555': 'Rawan',\n",
    "    '6666666666': 'Faisal',\n",
    "    '7777777777': 'Layla'\n",
    "}\n",
    "\n",
    "number = input(\"Enter the phone number: \")\n",
    "\n",
    "if len(number) != 10:\n",
    "    print(\"This is an invalid number.\")\n",
    "elif not number.isdigit():\n",
    "    print(\"This is an invalid number.\")\n",
    "elif number in phone_book:\n",
    "    print(\"The owner of the number is:\", phone_book[number])\n",
    "else:\n",
    "    print(\"Sorry, the number is not found.\")\n"
   ]
  },
  {
   "cell_type": "code",
   "execution_count": null,
   "id": "bf7d49c5-791b-44e6-a93a-d1969d156677",
   "metadata": {},
   "outputs": [],
   "source": []
  }
 ],
 "metadata": {
  "kernelspec": {
   "display_name": "Python 3 (ipykernel)",
   "language": "python",
   "name": "python3"
  },
  "language_info": {
   "codemirror_mode": {
    "name": "ipython",
    "version": 3
   },
   "file_extension": ".py",
   "mimetype": "text/x-python",
   "name": "python",
   "nbconvert_exporter": "python",
   "pygments_lexer": "ipython3",
   "version": "3.11.4"
  }
 },
 "nbformat": 4,
 "nbformat_minor": 5
}
